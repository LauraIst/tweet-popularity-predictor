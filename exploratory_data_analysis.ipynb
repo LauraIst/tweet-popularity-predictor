{
 "cells": [
  {
   "cell_type": "code",
   "execution_count": null,
   "metadata": {
    "collapsed": true
   },
   "outputs": [],
   "source": [
    "import pandas as pd\n",
    "df = pd.read_csv(\"out_per_id.csv\")\n",
    "df.head()\n",
    "\n",
    "# Exploratory analysis ideas: \n",
    "#   Word cloud (see this article: https://www.analyticsvidhya.com/blog/2018/07/hands-on-sentiment-analysis-dataset-python/)\n",
    "#   Visualise also e.g. hashtags\n",
    "\n",
    "\n",
    "# Model ideas:\n",
    "#   Logistic regression like in sentiment analysis (see the above article)\n",
    "#   Linear regression\n",
    "#   SVM for classifying tweets as popular/unpopular/close to baseline\n",
    "#   Naive Bayes, or maybe Decision Tree\n",
    "#   Could also train a neural network, perhaps to purely predict the number of retweets (without normalizing)"
   ]
  }
 ],
 "metadata": {
  "kernelspec": {
   "display_name": "Python 3",
   "language": "python",
   "name": "python3"
  },
  "language_info": {
   "codemirror_mode": {
    "name": "ipython",
    "version": 2
   },
   "file_extension": ".py",
   "mimetype": "text/x-python",
   "name": "python",
   "nbconvert_exporter": "python",
   "pygments_lexer": "ipython2",
   "version": "2.7.6"
  },
  "pycharm": {
   "stem_cell": {
    "cell_type": "raw",
    "source": [],
    "metadata": {
     "collapsed": false
    }
   }
  }
 },
 "nbformat": 4,
 "nbformat_minor": 0
}